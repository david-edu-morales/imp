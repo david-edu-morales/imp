{
 "cells": [
  {
   "attachments": {},
   "cell_type": "markdown",
   "metadata": {},
   "source": [
    "# HWRS 528 IMP03\n",
    "## Build Catchment Model"
   ]
  },
  {
   "attachments": {},
   "cell_type": "markdown",
   "metadata": {},
   "source": [
    "### 1. Import Python Packages"
   ]
  },
  {
   "cell_type": "code",
   "execution_count": 1,
   "metadata": {},
   "outputs": [],
   "source": [
    "import numpy as np\n",
    "import pandas as pd\n",
    "import matplotlib.pyplot as plt"
   ]
  },
  {
   "attachments": {},
   "cell_type": "markdown",
   "metadata": {},
   "source": [
    "### 2. Define Function Subprograms\n",
    "#### 2.1 Catchment model subprograms"
   ]
  },
  {
   "cell_type": "code",
   "execution_count": 22,
   "metadata": {},
   "outputs": [],
   "source": [
    "#==== Linear reservoir module (for one time step) ================================\n",
    "\n",
    "def LinRes(Xin, U, Kpar):                   # Define LinRes function subprogram\n",
    "\n",
    "    Y = Kpar*Xin                            # Compute QQ\n",
    "    Xout = Xin - Y + U                      # Update state variable\n",
    "\n",
    "    return [Y, Xout]                        # Return computed quantities\n",
    "\n",
    "#==== Channel routing module (for one time step) ====================================================\n",
    "\n",
    "def NashCasc(OF, NRes, XX3in, Theta_K3Q):   # Define NashCasc function subprogram\n",
    "\n",
    "    ResIdx = np.arange(0, NRes, 1)          # Set loop vector on tanks (int values)\n",
    "    UU     = OF                             # UU is set to be input to first tank\n",
    "    XX3out = np.zeros(NRes)                 # Initialize array to recieve XX3out\n",
    "    YY     = np.zeros(NRes)                 # Initialize array to recieve YY (individual tank outflows)\n",
    "\n",
    "    for i in ResIdx:\n",
    "        [YY[i], XX3out[i]] = LinRes(XX3in[i], UU, Theta_K3Q)\n",
    "        UU = YY[i]                          # set UU (inflow to next tank) to be outflow from previous tank\n",
    "    SF = UU                                 # Get output from last tank\n",
    "\n",
    "    return [SF, XX3out]                     # Return computed quantities (surface flow and state variable of last tank)\n",
    "\n",
    "#==== Lower Soil Zone Module (for one time step) ======================================================\n",
    "\n",
    "def LowerSoilZone(XX2in, RG, Theta_K2Q):    # Calculate lower soil zone subprocesses using LinRes\n",
    "\n",
    "    [BF, XX2out] = LinRes(XX2in, RG, Theta_K2Q) # Use Recharge as input for LSZ from upper soil zone tank\n",
    "    return [BF, XX2out]\n",
    "\n",
    "#==== Upper Soil Zone Module (for one time step) ======================================================\n",
    "\n",
    "def UpperSoilZone(XX1in, PP, PE, Theta_C1, Theta_P1, Theta_K13, Theta_K12):\n",
    "    \n",
    "    PX   = np.maximum(0, PP + XX1in - Theta_C1)   # Determines excess precipitation, part 1 of OF\n",
    "    IF   = Theta_K13*XX1in                        # Determines lateral drainage, part 2 of OF\n",
    "    OF   = PX + IF                                # Overland flow that will become the input for NashCasc\n",
    "    XX1a = XX1in - IF                             # Remainder of water content (Method of Operator Splitting)\n",
    "    AE   = np.minimum(XX1a, PE*(XX1a/Theta_C1)**Theta_P1) # Actual evaporation limited by PE or water content\n",
    "    XX1b = XX1a - AE                              # Remainder of water content \n",
    "    RG   = Theta_K12*XX1b                         # Recharge\n",
    "    XX1c = XX1b - RG                              # Remainder of water content\n",
    "    XX1out = XX1c + PP - PX                       # State variable at end of time step\n",
    "\n",
    "    return [OF, PX, IF, AE, RG, XX1out]\n",
    "\n",
    "#==== Catchment Model (for one time step) ======================================================\n",
    "\n",
    "def CatchModel(Inputs, InStates, Pars, NRes):\n",
    "\n",
    "    # Get input values for time step\n",
    "    PP = Inputs[0]\n",
    "    PE = Inputs[1]\n",
    "\n",
    "    # Get state values at beginning of time step\n",
    "    XX1in  = InStates[0]\n",
    "    XX2in  = InStates[1]\n",
    "    XX3in  = np.zeros(NRes)\n",
    "    ResIdx = np.arange(0, NRes, 1)\n",
    "    for i in ResIdx:\n",
    "        XX3in[i] = InStates[i+2]\n",
    "\n",
    "    # Get Par values\n",
    "    Theta_C1  = Pars[0]\n",
    "    Theta_P1  = Pars[1]\n",
    "    Theta_K12 = Pars[2]\n",
    "    Theta_K13 = Pars[3]\n",
    "    Theta_K2Q = Pars[4]\n",
    "    Theta_K3Q = Pars[5]\n",
    "\n",
    "    # Initialize Output array\n",
    "    Outputs   = np.zeros(2)\n",
    "    OutStates = np.zeros(NRes+2)\n",
    "    IntFluxes = np.zeros(6)\n",
    "\n",
    "    # Run model components\n",
    "    [OF, PX, IF, AE, RG, XX1out] = UpperSoilZone(XX1in, PP, PE,\n",
    "                                                Theta_C1, Theta_P1,\n",
    "                                                Theta_K13, Theta_K12)\n",
    "    [BF, XX2out] = LowerSoilZone(XX2in, RG, Theta_K2Q)\n",
    "    [SF, XX3out] = NashCasc(OF, NRes, XX3in, Theta_K3Q)\n",
    "    QQ           = SF + BF\n",
    "\n",
    "    # Compile outputs for time step\n",
    "    Outputs[0] = QQ\n",
    "    Outputs[1] = AE\n",
    "\n",
    "    # Compile and get state values at end of time step\n",
    "    OutStates[0] = XX1out\n",
    "    OutStates[1] = XX2out\n",
    "    for i in ResIdx:\n",
    "        OutStates[i+2] = XX3out[i]\n",
    "\n",
    "    # Compile internal fluxes for time step\n",
    "    IntFluxes[0] = OF; IntFluxes[1] = PX; IntFluxes[2] = IF\n",
    "    IntFluxes[3] = RG; IntFluxes[4] = BF; IntFluxes[5] = SF\n",
    "\n",
    "    return [Outputs, OutStates, IntFluxes]\n",
    "\n",
    "def MainCatchModel(PPobs, PEobs, Theta_C1,\n",
    "                   Theta_P1, Theta_K12, Theta_K13,\n",
    "                   Theta_K2Q, Theta_K3Q, NRes):\n",
    "    \n",
    "    \n",
    "    NTime = len(PPobs)              # Get length of time vector\n",
    "    Time  = np.arange(0, NTime, 1)  # Set up time vector (of integer values)\n",
    "\n",
    "    # Pack parameter values in Par array\n",
    "    Npar = 6; Pars = np.zeros(Npar)\n",
    "    Pars[0] = Theta_C1;  Pars[1] = Theta_P1;  Pars[2] = Theta_K12\n",
    "    Pars[3] = Theta_K13; Pars[4] = Theta_K2Q; Pars[5] = Theta_K3Q\n",
    "\n",
    "    # Initialize model state arrays\n",
    "    InStates = np.zeros(NRes+2); OutStates = InStates.copy()\n",
    "    InStates[1] = QQobs[0]/Theta_K2Q\n",
    "\n",
    "    # Initialize arrays\n",
    "    Inputs = np.zeros(2); Outputs = np.zeros(2); IntFluxes = np.zeros(6)\n",
    "    QQsim  = np.zeros(NTime); AEsim = np.zeros(NTime)\n",
    "\n",
    "    OF = np.zeros(NTime); PX = np.zeros(NTime); IF = np.zeros(NTime)\n",
    "    RG = np.zeros(NTime); BF = np.zeros(NTime); SF = np.zeros(NTime)\n",
    "    XX1 = np.zeros(NTime+1); XX2 = np.zeros(NTime+1)\n",
    "    XX3 = np.zeros([NTime+1, NRes])\n",
    "\n",
    "    for t in Time:\n",
    "        Inputs[0] = PPobs[t]; Inputs[1] = PEobs[t]\n",
    "        [Outputs, OutStates, IntFluxes] = CatchModel(Inputs, InStates, Pars, NRes)\n",
    "\n",
    "        QQsim[t] = Outputs[0].copy(); AEsim[t] = Outputs[1].copy()\n",
    "        OF[t] = IntFluxes[0]; PX[t] = IntFluxes[1]; IF[t] = IntFluxes[2]\n",
    "        RG[t] = IntFluxes[3]; BF[t] = IntFluxes[4]; SF[t] = IntFluxes[5]\n",
    "        XX1[t+1] = OutStates[0]; XX2[t+1] = OutStates[1]\n",
    "        ResIdx = np.arange(0, NRes, 1)\n",
    "        for i in ResIdx:\n",
    "            XX3[t+1, i] = OutStates[i+2]\n",
    "        InStates = OutStates\n",
    "\n",
    "    return [QQsim, AEsim]"
   ]
  },
  {
   "attachments": {},
   "cell_type": "markdown",
   "metadata": {},
   "source": [
    "#### 2.2 Metric Subprograms"
   ]
  },
  {
   "cell_type": "code",
   "execution_count": 32,
   "metadata": {},
   "outputs": [],
   "source": [
    "#==== Compute Mean Square Error (MSE) ========================================\n",
    "\n",
    "def MSE_Fn(Qs,Qo):                  # Define MSE_Fn function subprograms\n",
    "    MSE = np.mean((Qs-Qo)**2)       # Compute MSE\n",
    "    return MSE\n",
    "\n",
    "#==== Compute NSE Metric\n",
    "\n",
    "def NSE_Fn(Qs, Qo):                 # Define NSE_Fn function subprograms\n",
    "    MSE = MSE_Fn(Qs,Qo)             # Compute MSE\n",
    "    NSE = 1 - (MSE/np.var(Qo))      # Compute NSE\n",
    "    return NSE\n",
    "\n",
    "#==== Compute KGE Metric =====================================================\n",
    "\n",
    "def KGE_Fn(Qs,Qo):                  # Define KGE_Fn function subprogram\n",
    "    alpha = np.std(Qs)/np.std(Qo)                               # compute alpha\n",
    "    beta  = np.mean(Qs)/np.mean(Qo)                             # compute beta\n",
    "    rho   = np.corrcoef(Qs,Qo)[0,1]                             # compute rho\n",
    "    KGE   = 1 - np.sqrt((1-alpha)**2 + (1-beta)**2 + (1-rho)**2)# compute KGE\n",
    "    KGEss = (KGE - (1-np.sqrt(2)))/np.sqrt(2)                   # compute KGEss\n",
    "    return [KGEss, KGE, alpha, beta, rho]   # Return compute quantities\n",
    "\n",
    "#==== Compute all of the performance metrics (calls metric functions) ========\n",
    "\n",
    "def PerfMetrics(QQsim, QQobs, SpinUp, iPrint):\n",
    "\n",
    "    Qs   = QQsim[SpinUp:NTime].copy()                   # remove spin-up period\n",
    "    Qo   = QQobs[SpinUp:NTime].copy()                   # remove spin-up period\n",
    "    MSE  = MSE_Fn(Qs, Qo)                               # Compute MSE\n",
    "    NSE  = NSE_Fn(Qs, Qo)                               # Compute NSE\n",
    "    NSEL = NSE_Fn(np.log(Qs), np.log(Qo))               # Compute NSEL\n",
    "    [KGEss, KGE, alpha, beta, rho] = KGE_Fn(Qs, Qo)     # Compute KGE & components\n",
    "\n",
    "    # Create lables for printing\n",
    "    MSELab = f'MSE = {MSE:.2f}'; NSELab = f'NSE = {NSE:.2f}'\n",
    "    KGEssLab = f'KGEss = {KGEss:.2f}'; RhoLab = f'Rho = {rho:.2f}'\n",
    "    AlphaLab = f'Alpha = {alpha:.2f}'; BetaLab = f'Beta = {beta:.2f}'\n",
    "    NSELLab = f'NSEL = {NSEL:.2f}'\n",
    "\n",
    "    if iPrint == 1: # print following lines only if the iPrint Flag is set to 1\n",
    "        print()\n",
    "        print('================================================================')\n",
    "        print(MSELab, NSELab, KGEssLab, AlphaLab, BetaLab, RhoLab, NSELLab)\n",
    "        print('================================================================')\n",
    "\n",
    "    return [MSE,NSE,NSEL,KGEss,alpha,beta,rho]"
   ]
  },
  {
   "attachments": {},
   "cell_type": "markdown",
   "metadata": {},
   "source": [
    "##### 2.3 Diagnostics Plots subprograms"
   ]
  },
  {
   "cell_type": "code",
   "execution_count": null,
   "metadata": {},
   "outputs": [],
   "source": [
    "#==== Create Diagnostics plots ===============================================\n",
    "\n",
    "def DiagnosticsPlots(fignum, Time, QQsim, QQobs):\n",
    "    "
   ]
  },
  {
   "attachments": {},
   "cell_type": "markdown",
   "metadata": {},
   "source": [
    "### 3. Begin Model Simulation for Leaf River\n",
    "##### 3.1 Load data, choose time periods, and specify model parameters"
   ]
  },
  {
   "cell_type": "code",
   "execution_count": 19,
   "metadata": {},
   "outputs": [],
   "source": [
    "#==== Load Leaf River Catchment Data as a DataFrame ============================\n",
    "LRData = pd.read_csv('LeafRiverDaily.csv')\n",
    "\n",
    "#==== Get number of data points ================================================\n",
    "Ndata = LRData.shape[0]\n",
    "Nvars = LRData.shape[1]\n",
    "\n",
    "#==== Choose simulation time period and set up time vector =====================\n",
    "Period_Start = 0; Period_End = 365*3                # select time period to work with\n",
    "Time = np.arange(Period_Start, Period_End, 1)\n",
    "NTime = len(Time)\n",
    "\n",
    "#==== Set number of initial time steps to use as spin-up =======================\n",
    "# Metrics are not computed on this period\n",
    "SpinUp = 90                                         # select 90-day spin-up period\n",
    "\n",
    "#==== Get data for the desired period ==========================================\n",
    "PPobs = LRData.PP[Time].to_numpy()                  # Convert from DataFrame to numpy\n",
    "PEobs = LRData.PE[Time].to_numpy()                  # arrays to avoid indexing issyes\n",
    "QQobs = LRData.QQ[Time].to_numpy()\n",
    "\n",
    "#==== Determine maximum values for each variable ===============================\n",
    "PPobs_max = np.max(PPobs)\n",
    "PEobs_max = np.max(PEobs)\n",
    "QQobs_max = np.max(QQobs)\n",
    "\n",
    "#==== Specify model parameters =================================================\n",
    "NRes = 2; ResIdx = np.arange(0, NRes, 1)\n",
    "\n",
    "#==== Specify model parameter values for simulation ============================\n",
    "Theta_C1  = 60.0;    # Upper Soil Zone Capacity\n",
    "Theta_P1  = 1.0;     # Evapotranspiration Parameter (Reducing value increases ET)  \n",
    "Theta_K12 = 0.20;    # Drainage to Lower Soil Zone (Increasing value increases Drainage) \n",
    "Theta_K13 = 0.10;    # Interflow Parameter (Increasing value increases Interflow)  \n",
    "Theta_K2Q = 0.0001;  # Baseflow Parameter (Increasing value makes baseflow recessions steeper) \n",
    "Theta_K3Q = 0.6;     # Channel Routing Parameter (Increasing value reduces temporal dispersion)"
   ]
  },
  {
   "attachments": {},
   "cell_type": "markdown",
   "metadata": {},
   "source": [
    "##### 3.2 Run Catchment Model for Selected Time Period and View Metrics"
   ]
  },
  {
   "cell_type": "code",
   "execution_count": 23,
   "metadata": {},
   "outputs": [],
   "source": [
    "# Run Catchment Model for Selected time period ================================\n",
    "[QQsim, AEsim] = MainCatchModel(PPobs, PEobs, Theta_C1, Theta_P1, Theta_K12,\n",
    "                                Theta_K13, Theta_K2Q, Theta_K3Q, NRes)"
   ]
  },
  {
   "cell_type": "code",
   "execution_count": 25,
   "metadata": {},
   "outputs": [
    {
     "data": {
      "text/plain": [
       "(1095,)"
      ]
     },
     "execution_count": 25,
     "metadata": {},
     "output_type": "execute_result"
    }
   ],
   "source": [
    "QQsim.shape"
   ]
  },
  {
   "cell_type": "code",
   "execution_count": 31,
   "metadata": {},
   "outputs": [
    {
     "data": {
      "text/plain": [
       "<matplotlib.collections.PathCollection at 0x22be2b289a0>"
      ]
     },
     "execution_count": 31,
     "metadata": {},
     "output_type": "execute_result"
    },
    {
     "data": {
      "image/png": "[encoded data removed]",
      "text/plain": [
       "<Figure size 432x288 with 1 Axes>"
      ]
     },
     "metadata": {
      "needs_background": "light"
     },
     "output_type": "display_data"
    }
   ],
   "source": [
    "plt.scatter(QQsim, QQobs)"
   ]
  },
  {
   "cell_type": "code",
   "execution_count": null,
   "metadata": {},
   "outputs": [],
   "source": []
  }
 ],
 "metadata": {
  "kernelspec": {
   "display_name": "gwmod",
   "language": "python",
   "name": "python3"
  },
  "language_info": {
   "codemirror_mode": {
    "name": "ipython",
    "version": 3
   },
   "file_extension": ".py",
   "mimetype": "text/x-python",
   "name": "python",
   "nbconvert_exporter": "python",
   "pygments_lexer": "ipython3",
   "version": "3.8.12"
  },
  "orig_nbformat": 4
 },
 "nbformat": 4,
 "nbformat_minor": 2
}
