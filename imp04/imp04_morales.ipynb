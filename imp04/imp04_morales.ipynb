{
 "cells": [
  {
   "attachments": {},
   "cell_type": "markdown",
   "metadata": {},
   "source": [
    "# HWRS 528 IMP04\n",
    "## Optimization of performance by automated calibration of parameters\n",
    "### 1. Import Python packages"
   ]
  },
  {
   "cell_type": "code",
   "execution_count": 17,
   "metadata": {},
   "outputs": [],
   "source": [
    "import numpy as np\n",
    "import pandas as pd\n",
    "import matplotlib.pyplot as plt\n",
    "import LRC_modelSubprograms as lrc      # Leaf River Catchment model subprograms\n",
    "from scipy.optimize import minimize     # Optimization package for par optimization\n",
    "import datetime as dt"
   ]
  },
  {
   "attachments": {},
   "cell_type": "markdown",
   "metadata": {},
   "source": [
    "### 2. Begin model simulation for Leaf River\n",
    "#### 2.1 Load data, choose time period, and specify model parameters"
   ]
  },
  {
   "cell_type": "code",
   "execution_count": 4,
   "metadata": {},
   "outputs": [],
   "source": [
    "#==== Load Leaf River Catchment Data as a DataFrame ===============================\n",
    "LRData = pd.read_csv('../LeafRiverDaily.csv')\n",
    "\n",
    "#==== Get a number of datapoints ==================================================\n",
    "Ndata = LRData.shape[0]\n",
    "Nvars = LRData.shape[1]\n",
    "\n",
    "#==== Choose a simulation time period and set up time vector ======================\n",
    "Period_Start = 0; Period_End = 365*3                # select time period to work with\n",
    "Time = np.arange(0, Period_End, 1)\n",
    "NTime = len(Time)\n",
    "\n",
    "#==== Set number of initial time steps to use as spin-up ==========================\n",
    "# Metrics are not computed on this period\n",
    "SpinUp = 90                                         # select 90-day spin-up period\n",
    "\n",
    "#==== Get data for the desired period =============================================\n",
    "PPobs = LRData.PP[Time].to_numpy()                  # Convert from DataFrame to numpy\n",
    "PEobs = LRData.PE[Time].to_numpy()                  # arrays to avoid indexing issues\n",
    "QQobs = LRData.QQ[Time].to_numpy()\n",
    "\n",
    "#==== Determine max values for each variable ======================================\n",
    "PPobs_max = np.max(PPobs)\n",
    "PEobs_max = np.max(PEobs)\n",
    "QQobs_max = np.max(QQobs)\n",
    "\n",
    "#==== Specify model parameters ====================================================\n",
    "NRes = 2; ResIdex = np.arange(0, NRes, 1)\n",
    "\n",
    "#==== Specify process parameter values for simulation==============================\n",
    "Theta_C1  = 51.0;    # Upper Soil Zone Capacity\n",
    "Theta_P1  = 0.75;     # Evapotranspiration Parameter (Reducing value increases ET)  \n",
    "Theta_K12 = 0.25;    # Drainage to Lower Soil Zone (Increasing value increases Drainage) \n",
    "Theta_K13 = 0.04;    # Interflow Parameter (Increasing value increases Interflow)  \n",
    "Theta_K2Q = 0.0002;  # Baseflow Parameter (Increasing value makes baseflow recessions steeper) \n",
    "Theta_K3Q = 0.56;     # Channel Routing Parameter (Increasing value reduces temporal dispersion)\n",
    "\n",
    "Pars = np.zeros(6)\n",
    "\n",
    "Pars[0] = Theta_C1;  Pars[1] = Theta_P1;  Pars[2] = Theta_K12\n",
    "Pars[3] = Theta_K13; Pars[4] = Theta_K2Q; Pars[5] = Theta_K3Q"
   ]
  },
  {
   "attachments": {},
   "cell_type": "markdown",
   "metadata": {},
   "source": [
    "#### 2.2 Run catchment model for Selected time period"
   ]
  },
  {
   "cell_type": "code",
   "execution_count": 5,
   "metadata": {},
   "outputs": [
    {
     "data": {
      "text/plain": [
       "1.1373309606828417"
      ]
     },
     "execution_count": 5,
     "metadata": {},
     "output_type": "execute_result"
    }
   ],
   "source": [
    "lrc.MainCatchModel(Pars, PPobs, PEobs, QQobs, NRes)"
   ]
  },
  {
   "attachments": {},
   "cell_type": "markdown",
   "metadata": {},
   "source": [
    "### 3. Optimize values"
   ]
  },
  {
   "cell_type": "code",
   "execution_count": 7,
   "metadata": {},
   "outputs": [
    {
     "name": "stdout",
     "output_type": "stream",
     "text": [
      "Optimization terminated successfully.\n",
      "         Current function value: 1.104930\n",
      "         Iterations: 1782\n",
      "         Function evaluations: 2700\n"
     ]
    }
   ],
   "source": [
    "#==== Set number of iterations for optimization =========================\n",
    "NIterations = 10000\n",
    "\n",
    "#==== Set paramter bounds ===============================================\n",
    "            # Theta_C1  Theta_P1  Theta_K12  Theta_K13   Theta_K2Q    Theta_K3Q\n",
    "ParBounds = [[10,200], [0.5,1.5], [0.0,0.5], [0.0,0.9], [0.0001,0.1], [0.1,0.9]]\n",
    "\n",
    "#==== Perform optimization search =======================================\n",
    "result = minimize(lrc.MainCatchModel, Pars, args = (PPobs, PEobs, QQobs, NRes),\n",
    "                  bounds=ParBounds, method='nelder-mead',\n",
    "                  options={'disp':True, 'return_all':True,'maxiter':NIterations}\n",
    "                  )\n"
   ]
  },
  {
   "cell_type": "code",
   "execution_count": 21,
   "metadata": {},
   "outputs": [],
   "source": [
    "#==== Save results from 2023-04-24 12:34 ================================\n",
    "# Current function value: 1.104930\n",
    "# result['x']\n",
    "results = [7.71076000e+01, 5.00000009e-01, 4.90073149e-02, 1.87564529e-02, 1.00000000e-04, 5.76096385e-01]"
   ]
  },
  {
   "cell_type": "code",
   "execution_count": null,
   "metadata": {},
   "outputs": [],
   "source": []
  }
 ],
 "metadata": {
  "kernelspec": {
   "display_name": "gwmod",
   "language": "python",
   "name": "python3"
  },
  "language_info": {
   "codemirror_mode": {
    "name": "ipython",
    "version": 3
   },
   "file_extension": ".py",
   "mimetype": "text/x-python",
   "name": "python",
   "nbconvert_exporter": "python",
   "pygments_lexer": "ipython3",
   "version": "3.8.12"
  },
  "orig_nbformat": 4
 },
 "nbformat": 4,
 "nbformat_minor": 2
}
