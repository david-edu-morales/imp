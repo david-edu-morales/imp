{
 "cells": [
  {
   "attachments": {},
   "cell_type": "markdown",
   "metadata": {},
   "source": [
    "# HWRS 528 IMP04\n",
    "## Optimization of performance by automated calibration of parameters\n",
    "### 1. Import Python packages"
   ]
  },
  {
   "cell_type": "code",
   "execution_count": 6,
   "metadata": {},
   "outputs": [],
   "source": [
    "import numpy as np\n",
    "import pandas as pd\n",
    "import matplotlib.pyplot as plt\n",
    "import LRC_modelSubprograms as lrc      # Leaf River Catchment model subprograms\n",
    "from scipy.optimize import minimize     # Optimization package for par optimization\n",
    "import datetime as dt"
   ]
  },
  {
   "attachments": {},
   "cell_type": "markdown",
   "metadata": {},
   "source": [
    "### 2. Begin model simulation for Leaf River\n",
    "#### 2.1 Load data, choose time period, and specify model parameters"
   ]
  },
  {
   "cell_type": "code",
   "execution_count": 7,
   "metadata": {},
   "outputs": [],
   "source": [
    "#==== Load Leaf River Catchment Data as a DataFrame ===============================\n",
    "LRData = pd.read_csv('../LeafRiverDaily.csv')\n",
    "\n",
    "#==== Get a number of datapoints ==================================================\n",
    "Ndata = LRData.shape[0]\n",
    "Nvars = LRData.shape[1]\n",
    "\n",
    "#==== Choose a simulation time period and set up time vector ======================\n",
    "Period_Start = 0; Period_End = 365*3                # select time period to work with\n",
    "Time = np.arange(0, Period_End, 1)\n",
    "NTime = len(Time)\n",
    "\n",
    "#==== Set number of initial time steps to use as spin-up ==========================\n",
    "# Metrics are not computed on this period\n",
    "SpinUp = 90                                         # select 90-day spin-up period\n",
    "\n",
    "#==== Get data for the desired period =============================================\n",
    "PPobs = LRData.PP[Time].to_numpy()                  # Convert from DataFrame to numpy\n",
    "PEobs = LRData.PE[Time].to_numpy()                  # arrays to avoid indexing issues\n",
    "QQobs = LRData.QQ[Time].to_numpy()\n",
    "\n",
    "#==== Determine max values for each variable ======================================\n",
    "PPobs_max = np.max(PPobs)\n",
    "PEobs_max = np.max(PEobs)\n",
    "QQobs_max = np.max(QQobs)\n",
    "\n",
    "#==== Specify model parameters ====================================================\n",
    "NRes = 2; ResIdex = np.arange(0, NRes, 1)\n",
    "\n",
    "#==== Specify process parameter values for simulation==============================\n",
    "Theta_C1  = 51.0;    # Upper Soil Zone Capacity\n",
    "Theta_P1  = 0.75;     # Evapotranspiration Parameter (Reducing value increases ET)  \n",
    "Theta_K12 = 0.25;    # Drainage to Lower Soil Zone (Increasing value increases Drainage) \n",
    "Theta_K13 = 0.04;    # Interflow Parameter (Increasing value increases Interflow)  \n",
    "Theta_K2Q = 0.0002;  # Baseflow Parameter (Increasing value makes baseflow recessions steeper) \n",
    "Theta_K3Q = 0.56;     # Channel Routing Parameter (Increasing value reduces temporal dispersion)\n",
    "\n",
    "Pars = np.zeros(6)\n",
    "\n",
    "Pars[0] = Theta_C1;  Pars[1] = Theta_P1;  Pars[2] = Theta_K12\n",
    "Pars[3] = Theta_K13; Pars[4] = Theta_K2Q; Pars[5] = Theta_K3Q"
   ]
  },
  {
   "attachments": {},
   "cell_type": "markdown",
   "metadata": {},
   "source": [
    "#### 2.2 Run catchment model for Selected time period"
   ]
  },
  {
   "cell_type": "code",
   "execution_count": 8,
   "metadata": {},
   "outputs": [
    {
     "data": {
      "text/plain": [
       "1.1373309606828417"
      ]
     },
     "execution_count": 8,
     "metadata": {},
     "output_type": "execute_result"
    }
   ],
   "source": [
    "lrc.MainCatchModel(Pars, PPobs, PEobs, QQobs, NRes)"
   ]
  },
  {
   "attachments": {},
   "cell_type": "markdown",
   "metadata": {},
   "source": [
    "### 3. Optimize values"
   ]
  },
  {
   "cell_type": "code",
   "execution_count": 26,
   "metadata": {},
   "outputs": [
    {
     "name": "stdout",
     "output_type": "stream",
     "text": [
      "Optimization terminated successfully.\n",
      "         Current function value: 1.104930\n",
      "         Iterations: 1782\n",
      "         Function evaluations: 2700\n"
     ]
    }
   ],
   "source": [
    "#==== Set number of iterations for optimization =========================\n",
    "NIterations = 10000\n",
    "\n",
    "#==== Set paramter bounds ===============================================\n",
    "            # Theta_C1  Theta_P1  Theta_K12  Theta_K13   Theta_K2Q    Theta_K3Q\n",
    "ParBounds = [[10,200], [0.5,1.5], [0.0,0.5], [0.0,0.9], [0.0001,0.1], [0.1,0.9]]\n",
    "\n",
    "#==== Perform optimization search =======================================\n",
    "OptSearchResult = minimize(lrc.MainCatchModel, Pars, args = (PPobs, PEobs, QQobs, NRes),\n",
    "                  bounds=ParBounds, method='nelder-mead',\n",
    "                  options={'disp':True, 'return_all':True,'maxiter':NIterations}\n",
    "                  )\n"
   ]
  },
  {
   "cell_type": "code",
   "execution_count": null,
   "metadata": {},
   "outputs": [],
   "source": [
    "#==== Track evolution of KGEss ==========================================\n",
    "\n",
    "ParSets = OptSearchResult['allvecs']\n",
    "NParSets   = len(ParSets)\n",
    "ParSetsidx = np.arange(0, NParSets, 1)\n",
    "KGEss      = np.zeros(NParSets)\n",
    "\n",
    "for i in ParSetsidx:\n",
    "    Pars = ParSets[i]\n",
    "    KGEss[i] = lrc.MainCatchModel(Pars, PPobs, PEobs, QQobs, NRes)**-1\n",
    "\n",
    "plt.grid('--k')\n",
    "plt.xlabel('Iterations')\n",
    "plt.ylabel('KGEss value')\n",
    "plt.xlim(0,NParSets)\n",
    "plt.plot(KGEss)\n"
   ]
  },
  {
   "cell_type": "code",
   "execution_count": 123,
   "metadata": {},
   "outputs": [
    {
     "data": {
      "text/plain": [
       "[<matplotlib.lines.Line2D at 0x1cb0979d160>]"
      ]
     },
     "execution_count": 123,
     "metadata": {},
     "output_type": "execute_result"
    },
    {
     "data": {
      "image/png": "[encoded data removed]",
      "text/plain": [
       "<Figure size 432x288 with 1 Axes>"
      ]
     },
     "metadata": {},
     "output_type": "display_data"
    }
   ],
   "source": [
    "plt.figure(facecolor='whitesmoke')\n",
    "plt.grid('--k')\n",
    "plt.xlabel('Iterations')\n",
    "plt.ylabel('KGEss value')\n",
    "plt.xlim(0,800)\n",
    "plt.title('DSM Optimization KGEss evolution', fontweight='bold')\n",
    "plt.plot(KGEss[1:])"
   ]
  },
  {
   "cell_type": "code",
   "execution_count": 61,
   "metadata": {},
   "outputs": [],
   "source": [
    "#==== Compile lists of parameter evolution ==============================\n",
    "\n",
    "def ParValues(array):\n",
    "    NParSets   = len(array)\n",
    "    ParSetsidx = np.arange(0, NParSets, 1)\n",
    "\n",
    "    Theta_C1List  = np.zeros(NParSets); Theta_P1List  = np.zeros(NParSets)\n",
    "    Theta_K12List = np.zeros(NParSets); Theta_K13List = np.zeros(NParSets)\n",
    "    Theta_K2QList = np.zeros(NParSets); Theta_K3QList = np.zeros(NParSets)\n",
    "\n",
    "    for i in ParSetsidx:\n",
    "        Theta_C1List[i]  = array[i][0]\n",
    "        Theta_P1List[i]  = array[i][1]\n",
    "        Theta_K12List[i] = array[i][2]\n",
    "        Theta_K13List[i] = array[i][3]\n",
    "        Theta_K2QList[i] = array[i][4]\n",
    "        Theta_K3QList[i] = array[i][5]\n",
    "\n",
    "    return [Theta_C1List, Theta_P1List, Theta_K12List,\n",
    "            Theta_K13List, Theta_K2QList, Theta_K3QList]\n",
    "\n",
    "# [Theta_C1List, Theta_P1List, Theta_K12List, Theta_K13List, Theta_K2QList, Theta_K3QList] = ParValues(ParSets)"
   ]
  },
  {
   "cell_type": "code",
   "execution_count": null,
   "metadata": {},
   "outputs": [],
   "source": [
    "#==== Plot DSM optimization search for individual parameters ============\n",
    "\n",
    "AllVectorsList = ParValues(ParSets)                         # Call parameter lists from minimize_fun output\n",
    "Iter_Start = 0; Iter_End = 800                              # Set iteration range for plotting\n",
    "ParNames = ['Theta_C1', 'Theta_P1', 'Theta_K12',\n",
    "            'Theta_K13', 'Theta_K2Q', 'Theta_K3Q']\n",
    "\n",
    "fig, axs = plt.subplots(nrows=3, ncols=2,                   # initialize figure and 3x2 subplots\n",
    "                        figsize=(12,8),\n",
    "                        sharex=True,\n",
    "                        constrained_layout=True)\n",
    "fig.supylabel(r'$\\theta$ values',                           # set super y label\n",
    "              fontsize=16,\n",
    "              fontweight='bold')\n",
    "fig.suptitle('Downhill Simplex Method Optimization Search', # set super title of figure\n",
    "             fontsize=18,\n",
    "             fontweight='bold')\n",
    "fig.set_facecolor('whitesmoke')\n",
    "\n",
    "idx = 0                                                     # initialize Parameter index value\n",
    "for i in np.arange(0,3,1):                                  # iterate over rows    (3)\n",
    "    for j in np.arange(0,2,1):                              # iterate over columns (2)\n",
    "        ParList = AllVectorsList[idx][Iter_Start:Iter_End]  # set parameter list and truncate to 800 iterations\n",
    "        ParName = ParNames[idx]                             # grab parameter name from above list\n",
    "        axs[i,j].plot(ParList)\n",
    "        axs[i,j].set_xlim(Iter_Start,Iter_End)      \n",
    "        axs[i,j].grid('--k')\n",
    "        axs[2,j].set_xlabel('Iterations')\n",
    "        axs[i,j].set_title(ParName)\n",
    "        idx += 1                                            # increase parameter index by one"
   ]
  },
  {
   "cell_type": "code",
   "execution_count": 4,
   "metadata": {},
   "outputs": [],
   "source": [
    "#==== Save results from 2023-04-24 12:34 ================================\n",
    "# Current function value: 1.104930\n",
    "# result['x']\n",
    "results = [7.71076000e+01, 5.00000009e-01, 4.90073149e-02, 1.87564529e-02, 1.00000000e-04, 5.76096385e-01]"
   ]
  },
  {
   "cell_type": "code",
   "execution_count": 5,
   "metadata": {},
   "outputs": [
    {
     "data": {
      "text/plain": [
       "1.1049302810443948"
      ]
     },
     "execution_count": 5,
     "metadata": {},
     "output_type": "execute_result"
    }
   ],
   "source": [
    "lrc.MainCatchModel(results, PPobs, PEobs, QQobs, NRes)"
   ]
  },
  {
   "cell_type": "code",
   "execution_count": null,
   "metadata": {},
   "outputs": [],
   "source": []
  }
 ],
 "metadata": {
  "kernelspec": {
   "display_name": "gwmod",
   "language": "python",
   "name": "python3"
  },
  "language_info": {
   "codemirror_mode": {
    "name": "ipython",
    "version": 3
   },
   "file_extension": ".py",
   "mimetype": "text/x-python",
   "name": "python",
   "nbconvert_exporter": "python",
   "pygments_lexer": "ipython3",
   "version": "3.8.12"
  },
  "orig_nbformat": 4
 },
 "nbformat": 4,
 "nbformat_minor": 2
}
