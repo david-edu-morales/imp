{
 "cells": [
  {
   "attachments": {},
   "cell_type": "markdown",
   "metadata": {},
   "source": [
    "# HWRS 528 IMP04\n",
    "## Optimization of performance by automated calibration of parameters\n",
    "### 1. Import Python packages"
   ]
  },
  {
   "cell_type": "code",
   "execution_count": 6,
   "metadata": {},
   "outputs": [],
   "source": [
    "import numpy as np\n",
    "import pandas as pd\n",
    "import matplotlib.pyplot as plt\n",
    "import LRC_modelSubprograms as lrc      # Leaf River Catchment model subprograms\n",
    "from scipy.optimize import minimize     # Optimization package for par optimization\n",
    "import datetime as dt"
   ]
  },
  {
   "attachments": {},
   "cell_type": "markdown",
   "metadata": {},
   "source": [
    "### 2. Begin model simulation for Leaf River\n",
    "#### 2.1 Load data, choose time period, and specify model parameters"
   ]
  },
  {
   "cell_type": "code",
   "execution_count": 7,
   "metadata": {},
   "outputs": [],
   "source": [
    "#==== Load Leaf River Catchment Data as a DataFrame ===============================\n",
    "LRData = pd.read_csv('../LeafRiverDaily.csv')\n",
    "\n",
    "#==== Get a number of datapoints ==================================================\n",
    "Ndata = LRData.shape[0]\n",
    "Nvars = LRData.shape[1]\n",
    "\n",
    "#==== Choose a simulation time period and set up time vector ======================\n",
    "Period_Start = 0; Period_End = 365*3                # select time period to work with\n",
    "Time = np.arange(0, Period_End, 1)\n",
    "NTime = len(Time)\n",
    "\n",
    "#==== Set number of initial time steps to use as spin-up ==========================\n",
    "# Metrics are not computed on this period\n",
    "SpinUp = 90                                         # select 90-day spin-up period\n",
    "\n",
    "#==== Get data for the desired period =============================================\n",
    "PPobs = LRData.PP[Time].to_numpy()                  # Convert from DataFrame to numpy\n",
    "PEobs = LRData.PE[Time].to_numpy()                  # arrays to avoid indexing issues\n",
    "QQobs = LRData.QQ[Time].to_numpy()\n",
    "\n",
    "#==== Determine max values for each variable ======================================\n",
    "PPobs_max = np.max(PPobs)\n",
    "PEobs_max = np.max(PEobs)\n",
    "QQobs_max = np.max(QQobs)\n",
    "\n",
    "#==== Specify model parameters ====================================================\n",
    "NRes = 2; ResIdex = np.arange(0, NRes, 1)\n",
    "\n",
    "#==== Specify process parameter values for simulation==============================\n",
    "Theta_C1  = 51.0;    # Upper Soil Zone Capacity\n",
    "Theta_P1  = 0.75;     # Evapotranspiration Parameter (Reducing value increases ET)  \n",
    "Theta_K12 = 0.25;    # Drainage to Lower Soil Zone (Increasing value increases Drainage) \n",
    "Theta_K13 = 0.04;    # Interflow Parameter (Increasing value increases Interflow)  \n",
    "Theta_K2Q = 0.0002;  # Baseflow Parameter (Increasing value makes baseflow recessions steeper) \n",
    "Theta_K3Q = 0.56;     # Channel Routing Parameter (Increasing value reduces temporal dispersion)\n",
    "\n",
    "Pars = np.zeros(6)\n",
    "\n",
    "Pars[0] = Theta_C1;  Pars[1] = Theta_P1;  Pars[2] = Theta_K12\n",
    "Pars[3] = Theta_K13; Pars[4] = Theta_K2Q; Pars[5] = Theta_K3Q"
   ]
  },
  {
   "attachments": {},
   "cell_type": "markdown",
   "metadata": {},
   "source": [
    "#### 2.2 Run catchment model for Selected time period"
   ]
  },
  {
   "cell_type": "code",
   "execution_count": 8,
   "metadata": {},
   "outputs": [
    {
     "data": {
      "text/plain": [
       "1.1373309606828417"
      ]
     },
     "execution_count": 8,
     "metadata": {},
     "output_type": "execute_result"
    }
   ],
   "source": [
    "lrc.MainCatchModel(Pars, PPobs, PEobs, QQobs, NRes)"
   ]
  },
  {
   "attachments": {},
   "cell_type": "markdown",
   "metadata": {},
   "source": [
    "### 3. Optimize values"
   ]
  },
  {
   "cell_type": "code",
   "execution_count": 26,
   "metadata": {},
   "outputs": [
    {
     "name": "stdout",
     "output_type": "stream",
     "text": [
      "Optimization terminated successfully.\n",
      "         Current function value: 1.104930\n",
      "         Iterations: 1782\n",
      "         Function evaluations: 2700\n"
     ]
    }
   ],
   "source": [
    "#==== Set number of iterations for optimization =========================\n",
    "NIterations = 10000\n",
    "\n",
    "#==== Set paramter bounds ===============================================\n",
    "            # Theta_C1  Theta_P1  Theta_K12  Theta_K13   Theta_K2Q    Theta_K3Q\n",
    "ParBounds = [[10,200], [0.5,1.5], [0.0,0.5], [0.0,0.9], [0.0001,0.1], [0.1,0.9]]\n",
    "\n",
    "#==== Perform optimization search =======================================\n",
    "OptSearchResult = minimize(lrc.MainCatchModel, Pars, args = (PPobs, PEobs, QQobs, NRes),\n",
    "                  bounds=ParBounds, method='nelder-mead',\n",
    "                  options={'disp':True, 'return_all':True,'maxiter':NIterations}\n",
    "                  )\n"
   ]
  },
  {
   "cell_type": "code",
   "execution_count": 30,
   "metadata": {},
   "outputs": [
    {
     "name": "stdout",
     "output_type": "stream",
     "text": [
      "1783 \n",
      " [   0    1    2 ... 1780 1781 1782] \n",
      " [0. 0. 0. ... 0. 0. 0.]\n"
     ]
    }
   ],
   "source": [
    "#==== TRIAL CODE FOR \"Track evolution of KGEss\" CODE BELOW ==============\n",
    "ParSets = OptSearchResult['allvecs']\n",
    "NParSets   = len(ParSets)\n",
    "ParSetsidx = np.arange(0, NParSets, 1)\n",
    "KGEss      = np.zeros(NParSets)\n",
    "\n",
    "print(NParSets, '\\n', ParSetsidx, '\\n', KGEss)\n"
   ]
  },
  {
   "cell_type": "code",
   "execution_count": 33,
   "metadata": {},
   "outputs": [
    {
     "data": {
      "text/plain": [
       "[<matplotlib.lines.Line2D at 0x1cb0677ae50>]"
      ]
     },
     "execution_count": 33,
     "metadata": {},
     "output_type": "execute_result"
    },
    {
     "data": {
      "image/png": "[encoded data removed]",
      "text/plain": [
       "<Figure size 432x288 with 1 Axes>"
      ]
     },
     "metadata": {
      "needs_background": "light"
     },
     "output_type": "display_data"
    }
   ],
   "source": [
    "#==== Track evolution of KGEss ==========================================\n",
    "ParSets = OptSearchResult['allvecs']\n",
    "NParSets   = len(ParSets)\n",
    "ParSetsidx = np.arange(0, NParSets, 1)\n",
    "KGEss      = np.zeros(NParSets)\n",
    "\n",
    "for i in ParSetsidx:\n",
    "    Pars = ParSets[i]\n",
    "    KGEss[i] = lrc.MainCatchModel(Pars, PPobs, PEobs, QQobs, NRes)**-1\n",
    "\n",
    "plt.plot(KGEss)\n"
   ]
  },
  {
   "cell_type": "code",
   "execution_count": 4,
   "metadata": {},
   "outputs": [],
   "source": [
    "#==== Save results from 2023-04-24 12:34 ================================\n",
    "# Current function value: 1.104930\n",
    "# result['x']\n",
    "results = [7.71076000e+01, 5.00000009e-01, 4.90073149e-02, 1.87564529e-02, 1.00000000e-04, 5.76096385e-01]"
   ]
  },
  {
   "cell_type": "code",
   "execution_count": 5,
   "metadata": {},
   "outputs": [
    {
     "data": {
      "text/plain": [
       "1.1049302810443948"
      ]
     },
     "execution_count": 5,
     "metadata": {},
     "output_type": "execute_result"
    }
   ],
   "source": [
    "lrc.MainCatchModel(results, PPobs, PEobs, QQobs, NRes)"
   ]
  },
  {
   "cell_type": "code",
   "execution_count": 11,
   "metadata": {},
   "outputs": [
    {
     "ename": "NameError",
     "evalue": "name 'result' is not defined",
     "output_type": "error",
     "traceback": [
      "\u001b[1;31m---------------------------------------------------------------------------\u001b[0m",
      "\u001b[1;31mNameError\u001b[0m                                 Traceback (most recent call last)",
      "\u001b[1;32mc:\\Users\\moral\\OneDrive\\UofA\\2022-2023\\23 - Spring\\HWRS 528 - Systems Modeling\\imp\\imp04\\imp04_morales.ipynb Cell 11\u001b[0m in \u001b[0;36m<module>\u001b[1;34m\u001b[0m\n\u001b[1;32m----> <a href='vscode-notebook-cell:/c%3A/Users/moral/OneDrive/UofA/2022-2023/23%20-%20Spring/HWRS%20528%20-%20Systems%20Modeling/imp/imp04/imp04_morales.ipynb#X13sZmlsZQ%3D%3D?line=0'>1</a>\u001b[0m result\u001b[39m.\u001b[39mdescribe\n",
      "\u001b[1;31mNameError\u001b[0m: name 'result' is not defined"
     ]
    }
   ],
   "source": [
    "result.describe"
   ]
  },
  {
   "cell_type": "code",
   "execution_count": null,
   "metadata": {},
   "outputs": [],
   "source": []
  }
 ],
 "metadata": {
  "kernelspec": {
   "display_name": "gwmod",
   "language": "python",
   "name": "python3"
  },
  "language_info": {
   "codemirror_mode": {
    "name": "ipython",
    "version": 3
   },
   "file_extension": ".py",
   "mimetype": "text/x-python",
   "name": "python",
   "nbconvert_exporter": "python",
   "pygments_lexer": "ipython3",
   "version": "3.8.12"
  },
  "orig_nbformat": 4
 },
 "nbformat": 4,
 "nbformat_minor": 2
}
