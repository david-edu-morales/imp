{
 "cells": [
  {
   "attachments": {},
   "cell_type": "markdown",
   "metadata": {},
   "source": [
    "# HWRS 528 IMP05\n",
    "## Uncertainty Analysis\n",
    "### 1. Import Python packages"
   ]
  },
  {
   "cell_type": "code",
   "execution_count": 32,
   "metadata": {},
   "outputs": [],
   "source": [
    "import numpy as np\n",
    "import pandas as pd\n",
    "import matplotlib.pyplot as plt\n",
    "import random\n",
    "import LRC_subprograms as lrc"
   ]
  },
  {
   "attachments": {},
   "cell_type": "markdown",
   "metadata": {},
   "source": [
    "### 2. Load data, choose time period, and specify model parameters"
   ]
  },
  {
   "cell_type": "code",
   "execution_count": 35,
   "metadata": {},
   "outputs": [],
   "source": [
    "#==== Load Leaf River Catchment Data as a DataFrame ===============================\n",
    "LRData = pd.read_csv('../LeafRiverDaily.csv')\n",
    "\n",
    "#==== Get a number of datapoints ==================================================\n",
    "Ndata = LRData.shape[0]\n",
    "Nvars = LRData.shape[1]\n",
    "\n",
    "#==== Choose a simulation time period and set up time vector ======================\n",
    "Period_Start = 0; Period_End = 365*3                # select time period to work with\n",
    "Time = np.arange(0, Period_End, 1)\n",
    "NTime = len(Time)\n",
    "\n",
    "#==== Set number of initial time steps to use as spin-up ==========================\n",
    "# Metrics are not computed on this period\n",
    "SpinUp = 90                                         # select 90-day spin-up period\n",
    "\n",
    "#==== Get data for the desired period =============================================\n",
    "PPobs = LRData.PP[Time].to_numpy()                  # Convert from DataFrame to numpy\n",
    "PEobs = LRData.PE[Time].to_numpy()                  # arrays to avoid indexing issues\n",
    "QQobs = LRData.QQ[Time].to_numpy()\n",
    "\n",
    "#==== Determine max values for each variable ======================================\n",
    "PPobs_max = np.max(PPobs)\n",
    "PEobs_max = np.max(PEobs)\n",
    "QQobs_max = np.max(QQobs)\n",
    "\n",
    "#==== Specify model parameters ====================================================\n",
    "NRes = 2; ResIdex = np.arange(0, NRes, 1)"
   ]
  },
  {
   "attachments": {},
   "cell_type": "markdown",
   "metadata": {},
   "source": [
    "### 3. Monte Carlo parameter value generation"
   ]
  },
  {
   "attachments": {},
   "cell_type": "markdown",
   "metadata": {},
   "source": [
    "##### 3.1 Create Monte Carlo Generator subprograms"
   ]
  },
  {
   "cell_type": "code",
   "execution_count": 36,
   "metadata": {},
   "outputs": [],
   "source": [
    "#==== Monte Carlo Parameter Value Generator (for one parameter) =====================================\n",
    "def ParGenerator(Bounds, NValues, seed):\n",
    "    \n",
    "    #==== Define upper and lower bounds from input ==================================================\n",
    "    LowerBound = Bounds[0]; UpperBound = Bounds[1]\n",
    "\n",
    "    #==== Initialize list and MCA components ========================================================\n",
    "    ParValues = []              # List to hold generated parameter values\n",
    "    random.seed(seed)           # Seed random number generator\n",
    "    currentRoll = 1             # counter for Monte Carlo generator\n",
    "\n",
    "    #==== Run Monte Carlo and generate parameter values =============================================\n",
    "    while currentRoll <= NValues:\n",
    "        r = random.random()                                     # Random number between [0,1]\n",
    "        ParValue = LowerBound + (UpperBound-LowerBound) * r     # generate parameter value between bounds\n",
    "        ParValues.append(ParValue)                              # add parameter value to list\n",
    "\n",
    "        currentRoll += 1\n",
    "\n",
    "    return ParValues\n",
    "\n",
    "#==== Compile list of Monte Carlo-generated parameter value lists ====================================\n",
    "def ParList(ParBounds, NValues):\n",
    "    NPars  = len(ParBounds)                                     # Number of parameters to generate values\n",
    "    ParIdx = np.arange(0, NPars, 1)\n",
    "    ParValueList = []                                           # List to hold lists of parameter values\n",
    "\n",
    "    for i in ParIdx:\n",
    "        seed = random.randint(0, 1000)                          # Random seed for each ParGenerator iteration\n",
    "        Bounds = ParBounds[i]                                   # Set bounds for each parameter\n",
    "        ParValues = ParGenerator(Bounds, NValues, seed)         # Run ParGenerator_fun to create list of parameter values\n",
    "        ParValueList.append(ParValues)                          # Compile list of parameter value lists\n",
    "\n",
    "    return ParValueList\n",
    "\n",
    "#==== Compile list of parameter sets ================================================================\n",
    "def ParSets(ParBounds, NValues):\n",
    "    ParValueList = ParList(ParBounds, NValues)                  # Run ParList_fun to generate list of parameter values\\\n",
    "                                                                # for each parameter.\n",
    "    Par1 = ParValueList[0]; Par2 = ParValueList[1]; Par3 = ParValueList[2]  # Separate ParValueList into one list for\\\n",
    "    Par4 = ParValueList[3]; Par5 = ParValueList[4]; Par6 = ParValueList[5]  # each parameter (six total lists).\n",
    "\n",
    "    ParSetList = []                                             # List to hold MC-generated parameter sets\n",
    "    ParSetIdx = np.arange(0, NValues, 1)\n",
    "\n",
    "    for i in ParSetIdx:\n",
    "        ParSet = [Par1[i], Par2[i], Par3[i],                    # Create parameter set by pulling nth element from\\\n",
    "                  Par4[i], Par5[i], Par6[i]]                    # parameter value lists\n",
    "        ParSetList.append(ParSet)                               # Compile list of parameter sets\n",
    "    \n",
    "    return ParSetList"
   ]
  },
  {
   "attachments": {},
   "cell_type": "markdown",
   "metadata": {},
   "source": [
    "##### 3.2 Generate random parameter sets"
   ]
  },
  {
   "cell_type": "code",
   "execution_count": 37,
   "metadata": {},
   "outputs": [],
   "source": [
    "#==== Set number of iterations ==========================================\n",
    "NValues = 1000\n",
    "\n",
    "#==== Set paramter bounds ===============================================\n",
    "            # Theta_C1  Theta_P1  Theta_K12  Theta_K13   Theta_K2Q    Theta_K3Q\n",
    "ParBounds = [[10,300], [0.5,1.5], [0.0,0.5], [0.0,0.9], [0.0001,0.1], [0.1,0.9]]\n",
    "\n",
    "ParSetList = ParSets(ParBounds, NValues)"
   ]
  },
  {
   "attachments": {},
   "cell_type": "markdown",
   "metadata": {},
   "source": [
    "### 4. Analyze MC-generated model results"
   ]
  },
  {
   "attachments": {},
   "cell_type": "markdown",
   "metadata": {},
   "source": [
    "##### Run model for n iterations"
   ]
  },
  {
   "cell_type": "code",
   "execution_count": 38,
   "metadata": {},
   "outputs": [],
   "source": [
    "NParSets   = len(ParSetList)\n",
    "ParSetsIdx = np.arange(0, NParSets, 1)\n",
    "\n",
    "QQsimList = []; MSEList   = []; NSEList  = []\n",
    "KGEssList = []; alphaList = []; betaList = []\n",
    "rhoList   = []\n",
    "\n",
    "for i in ParSetsIdx:\n",
    "    Pars = ParSetList[i]\n",
    "    [QQsim, AEsim, MSE,NSE,NSEL,KGEss,KGE,alpha,beta,rho] = lrc.MainCatchModel(Pars, PPobs, PEobs, QQobs, NRes)\n",
    "\n",
    "    QQsimList.append(QQsim); MSEList.append(MSE); NSEList.append(NSE)\n",
    "    KGEssList.append(KGEss); alphaList.append(alpha); betaList.append(beta)\n",
    "    rhoList.append(rho)\n",
    "    "
   ]
  },
  {
   "cell_type": "code",
   "execution_count": 50,
   "metadata": {},
   "outputs": [
    {
     "data": {
      "text/plain": [
       "1095"
      ]
     },
     "execution_count": 50,
     "metadata": {},
     "output_type": "execute_result"
    }
   ],
   "source": [
    "len(QQsimList[0])"
   ]
  },
  {
   "cell_type": "code",
   "execution_count": null,
   "metadata": {},
   "outputs": [],
   "source": []
  }
 ],
 "metadata": {
  "kernelspec": {
   "display_name": "gwmod",
   "language": "python",
   "name": "python3"
  },
  "language_info": {
   "codemirror_mode": {
    "name": "ipython",
    "version": 3
   },
   "file_extension": ".py",
   "mimetype": "text/x-python",
   "name": "python",
   "nbconvert_exporter": "python",
   "pygments_lexer": "ipython3",
   "version": "3.8.12"
  },
  "orig_nbformat": 4
 },
 "nbformat": 4,
 "nbformat_minor": 2
}
