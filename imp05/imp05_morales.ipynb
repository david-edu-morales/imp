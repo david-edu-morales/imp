{
 "cells": [
  {
   "attachments": {},
   "cell_type": "markdown",
   "metadata": {},
   "source": [
    "# HWRS 528 IMP05\n",
    "## Uncertainty Analysis\n",
    "### 1. Import Python packages"
   ]
  },
  {
   "cell_type": "code",
   "execution_count": 1,
   "metadata": {},
   "outputs": [],
   "source": [
    "import numpy as np\n",
    "import pandas as pd\n",
    "import matplotlib.pyplot as plt\n",
    "import random"
   ]
  },
  {
   "cell_type": "code",
   "execution_count": 2,
   "metadata": {},
   "outputs": [
    {
     "data": {
      "text/plain": [
       "[]"
      ]
     },
     "execution_count": 2,
     "metadata": {},
     "output_type": "execute_result"
    },
    {
     "data": {
      "image/png": "[encoded data removed]",
      "text/plain": [
       "<Figure size 432x288 with 1 Axes>"
      ]
     },
     "metadata": {
      "needs_background": "light"
     },
     "output_type": "display_data"
    }
   ],
   "source": [
    "listLength  = 100000\n",
    "rolls = []\n",
    "currentRoll = 1\n",
    "\n",
    "while currentRoll <= listLength:\n",
    "    roll = random.randint(0,10)\n",
    "    rolls.append(roll)\n",
    "    currentRoll +=1\n",
    "\n",
    "rolls_arr = np.array(rolls)\n",
    "plt.hist(rolls_arr)\n",
    "plt.plot()"
   ]
  },
  {
   "cell_type": "code",
   "execution_count": 34,
   "metadata": {},
   "outputs": [
    {
     "data": {
      "text/plain": [
       "0.03872593120390222"
      ]
     },
     "execution_count": 34,
     "metadata": {},
     "output_type": "execute_result"
    }
   ],
   "source": [
    "mu, sigma = 0, 0.1 # mean and standard deviation\n",
    "s = np.random.normal(mu, sigma)\n",
    "s"
   ]
  },
  {
   "cell_type": "code",
   "execution_count": null,
   "metadata": {},
   "outputs": [],
   "source": [
    "#==== Monte Carlo Parameter Value Generator (for one parameter) =====================================\n",
    "def ParGenerator(Bounds, NValues, seed):\n",
    "    \n",
    "    #==== Define upper and lower bounds from input ==================================================\n",
    "    LowerBound = Bounds[0]; UpperBound = Bounds[1]\n",
    "\n",
    "    #==== Initialize list and MCA components ========================================================\n",
    "    ParValueList = []           # List to hold generated parameter values\n",
    "    random.seed(seed)           # Seed random number generator\n",
    "    currentRoll = 1             # counter for Monte Carlo generator\n",
    "\n",
    "    #==== Run Monte Carlo and generate parameter values =============================================\n",
    "    while currentRoll <= NValues:\n",
    "        r = random.random()                                     # Random number between [0,1]\n",
    "        ParValue = LowerBound + (UpperBound-LowerBound) * r     # generate parameter value between bounds\n",
    "        ParValueList.append(ParValue)                           # add parameter value to list\n",
    "\n",
    "        currentRoll += 1\n",
    "\n",
    "    return ParValueList"
   ]
  },
  {
   "attachments": {},
   "cell_type": "markdown",
   "metadata": {},
   "source": [
    "##### Set up parametes for Monte Carlo Analysis"
   ]
  },
  {
   "cell_type": "code",
   "execution_count": 7,
   "metadata": {},
   "outputs": [],
   "source": [
    "#==== Set number of iterations ==========================================\n",
    "NValues = 10\n",
    "\n",
    "#==== Set paramter bounds ===============================================\n",
    "            # Theta_C1  Theta_P1  Theta_K12  Theta_K13   Theta_K2Q    Theta_K3Q\n",
    "ParBounds = [[10,300], [0.5,1.5], [0.0,0.5], [0.0,0.9], [0.0001,0.1], [0.1,0.9]]"
   ]
  },
  {
   "attachments": {},
   "cell_type": "markdown",
   "metadata": {},
   "source": [
    "##### Generate list of values for each parameter"
   ]
  },
  {
   "cell_type": "code",
   "execution_count": null,
   "metadata": {},
   "outputs": [],
   "source": []
  },
  {
   "cell_type": "code",
   "execution_count": 23,
   "metadata": {},
   "outputs": [
    {
     "data": {
      "text/plain": [
       "86"
      ]
     },
     "execution_count": 23,
     "metadata": {},
     "output_type": "execute_result"
    }
   ],
   "source": [
    "random.randint(0,100)\n"
   ]
  },
  {
   "cell_type": "code",
   "execution_count": 26,
   "metadata": {},
   "outputs": [
    {
     "data": {
      "text/plain": [
       "[66.96506978814406,\n",
       " 42.32507065657792,\n",
       " 10.765240958585748,\n",
       " 192.15946268078022,\n",
       " 77.92716880422903,\n",
       " 70.23289477658054,\n",
       " 168.56497397721438,\n",
       " 140.44321862597556,\n",
       " 193.8150496192973,\n",
       " 61.9596366431332]"
      ]
     },
     "execution_count": 26,
     "metadata": {},
     "output_type": "execute_result"
    }
   ],
   "source": [
    "ParGenerator(ParBounds[0], NValues, 314)\n"
   ]
  },
  {
   "cell_type": "code",
   "execution_count": null,
   "metadata": {},
   "outputs": [
    {
     "data": {
      "image/png": "[encoded data removed]",
      "text/plain": [
       "<Figure size 432x288 with 1 Axes>"
      ]
     },
     "metadata": {},
     "output_type": "display_data"
    }
   ],
   "source": [
    "theta_C1_bounds = [10,300]\n",
    "theta_C1_Lower  = theta_C1_bounds[0]\n",
    "theta_C1_Upper  = theta_C1_bounds[1]\n",
    "\n",
    "NPars = 10000\n",
    "parList = []\n",
    "currentRoll = 1\n",
    "random.seed(1)\n",
    "\n",
    "while currentRoll <= NPars:\n",
    "    par = theta_C1_Lower + (theta_C1_Upper-theta_C1_Lower) * random.random()\n",
    "    parList.append(par)\n",
    "    currentRoll += 1\n",
    "\n",
    "par_arr = np.array(parList)\n",
    "plt.hist(par_arr)\n",
    "plt.show()"
   ]
  }
 ],
 "metadata": {
  "kernelspec": {
   "display_name": "gwmod",
   "language": "python",
   "name": "python3"
  },
  "language_info": {
   "codemirror_mode": {
    "name": "ipython",
    "version": 3
   },
   "file_extension": ".py",
   "mimetype": "text/x-python",
   "name": "python",
   "nbconvert_exporter": "python",
   "pygments_lexer": "ipython3",
   "version": "3.8.12"
  },
  "orig_nbformat": 4
 },
 "nbformat": 4,
 "nbformat_minor": 2
}
